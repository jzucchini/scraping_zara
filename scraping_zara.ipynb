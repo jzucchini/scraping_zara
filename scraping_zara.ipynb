{
 "cells": [
  {
   "cell_type": "code",
   "execution_count": 2,
   "metadata": {},
   "outputs": [],
   "source": [
    "import requests\n",
    "from bs4 import BeautifulSoup"
   ]
  },
  {
   "cell_type": "code",
   "execution_count": 23,
   "metadata": {},
   "outputs": [],
   "source": [
    "base_url = \"https://www.zara.com/it/it/donna-prezzi-speciali-l1314.html?v1=1883601\"\n",
    "header = {\n",
    "    'User-Agent': 'Mozilla/5.0 (Macintosh; Intel Mac OS X 10_10_1) AppleWebKit/537.36 (KHTML, like Gecko) Chrome/39.0.2171.95 Safari/537.36',\n",
    "}\n",
    "page = requests.get(base_url, headers=header)"
   ]
  },
  {
   "cell_type": "code",
   "execution_count": null,
   "metadata": {},
   "outputs": [],
   "source": [
    "soup = BeautifulSoup(page.text, 'lxml')\n",
    "items = soup.find(\"ul\", class_=\"product-grid__product-list\")"
   ]
  },
  {
   "cell_type": "code",
   "execution_count": 61,
   "metadata": {},
   "outputs": [
    {
     "data": {
      "text/plain": [
       "{'VESTITO MIDI CON ARRICCIATURA': ['49,95 EUR', '25,95 EUR'],\n",
       " 'VESTITO CHEMISIER MIDI': ['49,95 EUR', '25,95 EUR'],\n",
       " 'VESTITO DRAPPEGGIATO': ['39,95 EUR', '19,95 EUR'],\n",
       " 'PANTALONI SKINNY CON SPACCHI': ['39,95 EUR', '19,95 EUR'],\n",
       " 'VESTITO STAMPA FLOREALE': ['39,95 EUR', '19,95 EUR'],\n",
       " 'VESTITO SATINATO STAMPATO': ['39,95 EUR', '19,95 EUR'],\n",
       " 'VESTITO SCOLLO CUORE': ['39,95 EUR', '19,95 EUR'],\n",
       " 'VESTITO STAMPATO': ['39,95 EUR', '19,95 EUR'],\n",
       " 'JEANS GAMBA LARGA': ['39,95 EUR', '19,95 EUR'],\n",
       " 'PANTALONI A VITA ALTA CON CINTURA DOPPIA': ['39,95 EUR', '19,95 EUR'],\n",
       " 'PANTALONI CON SPACCHI LATERALI': ['39,95 EUR', '19,95 EUR'],\n",
       " 'VESTITO MIDI STAMPATO': ['49,95 EUR', '25,95 EUR'],\n",
       " 'JEANS WIDE LEG CON STRAPPI': ['39,95 EUR', '19,95 EUR'],\n",
       " 'PANTALONI MASCHILI DRITTI CON SPACCO': ['29,95 EUR', '19,95 EUR'],\n",
       " 'PANTALONI FULL LENGTH': ['29,95 EUR', '19,95 EUR'],\n",
       " 'GIUBBOTTO IMBOTTITO WATER REPELLENT': ['49,95 EUR', '25,95 EUR'],\n",
       " 'STIVALETTI BASSI IN PELLE STRINGATI': ['79,95 EUR', '49,95 EUR']}"
      ]
     },
     "execution_count": 61,
     "metadata": {},
     "output_type": "execute_result"
    }
   ],
   "source": [
    "dict = {}\n",
    "for item in items:\n",
    "    name = item.find(\"a\", class_=\"product-link _item product-grid-product-info__name link\")\n",
    "    if name:\n",
    "        name = name.text\n",
    "        old = item.find(\"span\", class_=\"price__amount price__amount--old\").text\n",
    "        new = item.find(\"span\", class_=\"price__amount-current\").text\n",
    "        dict[name] = [old,new]\n",
    "dict"
   ]
  }
 ],
 "metadata": {
  "interpreter": {
   "hash": "97c9886322be2442c143c9fdf214917c303244f0c018044ccffe8563cd222fc6"
  },
  "kernelspec": {
   "display_name": "Python 3.9.0 64-bit",
   "language": "python",
   "name": "python3"
  },
  "language_info": {
   "codemirror_mode": {
    "name": "ipython",
    "version": 3
   },
   "file_extension": ".py",
   "mimetype": "text/x-python",
   "name": "python",
   "nbconvert_exporter": "python",
   "pygments_lexer": "ipython3",
   "version": "3.9.0"
  },
  "orig_nbformat": 4
 },
 "nbformat": 4,
 "nbformat_minor": 2
}
